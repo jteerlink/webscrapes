{
 "cells": [
  {
   "cell_type": "code",
   "execution_count": null,
   "metadata": {},
   "outputs": [],
   "source": []
  },
  {
   "cell_type": "code",
   "execution_count": 1,
   "metadata": {},
   "outputs": [],
   "source": [
    "from splinter import Browser\n",
    "from selenium import webdriver\n",
    "from bs4 import BeautifulSoup\n",
    "import pandas as pd\n",
    "import re"
   ]
  },
  {
   "cell_type": "code",
   "execution_count": 11,
   "metadata": {},
   "outputs": [
    {
     "data": {
      "text/plain": [
       "41855"
      ]
     },
     "execution_count": 11,
     "metadata": {},
     "output_type": "execute_result"
    }
   ],
   "source": [
    "zipcodes = pd.read_csv('C:/Anaconda/US_zipcodes.csv')\n",
    "# zipcodes.zip_code[0:5]\n",
    "len(zipcodes.zip_code)"
   ]
  },
  {
   "cell_type": "code",
   "execution_count": 8,
   "metadata": {},
   "outputs": [],
   "source": [
    "# Set the executable path and initialize the chrome browser in splinter\n",
    "executable_path = {'executable_path': 'C:/Anaconda/webscrapes/chromedriver'}\n",
    "chrome_options = webdriver.ChromeOptions()\n",
    "chrome_options.add_argument('log-level=3')\n",
    "browser = Browser('chrome', **executable_path, wait_time=1,headless=True,options=chrome_options)\n"
   ]
  },
  {
   "cell_type": "code",
   "execution_count": 9,
   "metadata": {},
   "outputs": [],
   "source": [
    "# Visit Carrier Dealer Locator site\n",
    "url = 'https://www.carrier.com/residential/en/us/find-a-dealer/'\n",
    "browser.visit(url)\n",
    "\n"
   ]
  },
  {
   "cell_type": "code",
   "execution_count": 10,
   "metadata": {},
   "outputs": [],
   "source": [
    "# This script will scrape dealer information based on a list of zipcodes\n",
    "# The dealer information is contained in a javascript array of objects \n",
    "\n",
    "\n",
    "\n",
    "df=pd.DataFrame()\n",
    "for z in zipcodes.zip_code[0:25]:\n",
    "    browser.cookies.delete()\n",
    "    browser.find_by_name(name=\"ctl00$pageContent$FindADealer$dealerLocator\").fill(z)\n",
    "    browser.find_by_id(\"pageContent_FindADealer_btnSubmit\").click()\n",
    "    html = browser.html\n",
    "    carrier_soup = BeautifulSoup(html, 'html.parser')\n",
    "    dict_list=[]\n",
    "    for i in range(29)[19:]:\n",
    "        try:  #finds and extracts only portion of javascript embedded in html that contains array of objects(python dictionary) as a string\n",
    "            dict_list.append(re.findall(\"(?<=\\\\')[^\\\\[),';].*?(?=\\\\')\",carrier_soup.find_all('script')[i].get_text(strip=True)))  \n",
    "        \n",
    "        except:\n",
    "            pass\n",
    "#this block cleans up list of objects to be converted in list of dictionaries then to a dataframe\n",
    "    clean_list=[]   \n",
    "    for d in dict_list:\n",
    "        try:\n",
    "            clean_list.append(eval(d[0]))\n",
    "        except:\n",
    "            pass\n",
    "    for d in clean_list:  #this dealer no is the list number on each page not the actual dealer account number\n",
    "        del d['DealerNo']\n",
    "        \n",
    "    df=df.append(pd.DataFrame(clean_list),ignore_index=True)\n",
    "    df.drop_duplicates(inplace=True)\n",
    "\n",
    "browser.quit()\n",
    "\n",
    "# df.drop('DealerNo',axis=1)\n",
    "\n",
    "df['Country']='United States'\n",
    "df['Brand'] = 'Carrier'\n",
    "df['DealerName']= df['DealerName'].apply(lambda x: x.replace('amp;',''))\n",
    "df['DealerName']= df['DealerName'].apply(lambda x: x.replace(\"#39;\",''))\n",
    "d2 = pd.DataFrame([df.DealerName,df.PostalAddress,df.City,df.State,df.ZipCode,df.Country,df.Phone,df.LocatorLatitude,df.LocatorLongitude,df.Website,df.Brand]).T\n",
    "\n",
    "\n",
    "\n",
    "from sqlalchemy import create_engine\n",
    "import urllib\n",
    "\n",
    "\n",
    "params = urllib.parse.quote_plus('DRIVER={SQL Server Native Client 10.0};Server=gmlsql2hou; DATABASE=invplannersapp;Trusted_Connection=yes;')\n",
    "\n",
    "engine = create_engine(\"mssql+pyodbc:///?odbc_connect=%s\" % params)\n",
    "d2.to_sql('GBU_Webscrape',engine,if_exists='append',index=False)\n",
    "\n",
    "\n",
    "# print(\"--- %s seconds ---\" % (time.time() - start_time))"
   ]
  },
  {
   "cell_type": "code",
   "execution_count": 20,
   "metadata": {},
   "outputs": [
    {
     "data": {
      "text/html": [
       "<div>\n",
       "<style scoped>\n",
       "    .dataframe tbody tr th:only-of-type {\n",
       "        vertical-align: middle;\n",
       "    }\n",
       "\n",
       "    .dataframe tbody tr th {\n",
       "        vertical-align: top;\n",
       "    }\n",
       "\n",
       "    .dataframe thead th {\n",
       "        text-align: right;\n",
       "    }\n",
       "</style>\n",
       "<table border=\"1\" class=\"dataframe\">\n",
       "  <thead>\n",
       "    <tr style=\"text-align: right;\">\n",
       "      <th></th>\n",
       "      <th>City</th>\n",
       "      <th>DealerName</th>\n",
       "      <th>LocatorLatitude</th>\n",
       "      <th>LocatorLongitude</th>\n",
       "      <th>Phone</th>\n",
       "      <th>PostalAddress</th>\n",
       "      <th>State</th>\n",
       "      <th>Website</th>\n",
       "      <th>ZipCode</th>\n",
       "    </tr>\n",
       "  </thead>\n",
       "  <tbody>\n",
       "    <tr>\n",
       "      <th>0</th>\n",
       "      <td>Anchorage</td>\n",
       "      <td>Circle Plumbing &amp;amp;amp; Heating</td>\n",
       "      <td>61.1518000000001</td>\n",
       "      <td>-149.9469</td>\n",
       "      <td>888-581-3991</td>\n",
       "      <td>2317 Raspberry Rd</td>\n",
       "      <td>AK</td>\n",
       "      <td>http://circleplumbingandheating.com/</td>\n",
       "      <td>99502</td>\n",
       "    </tr>\n",
       "    <tr>\n",
       "      <th>1</th>\n",
       "      <td>Wasilla</td>\n",
       "      <td>Trans Alaska Mechanical LLC</td>\n",
       "      <td>61.5950000000001</td>\n",
       "      <td>-149.3769</td>\n",
       "      <td>888-493-8668</td>\n",
       "      <td>1255 W Winter Ct</td>\n",
       "      <td>AK</td>\n",
       "      <td>http://www.trans-ak.com</td>\n",
       "      <td>99654</td>\n",
       "    </tr>\n",
       "    <tr>\n",
       "      <th>2</th>\n",
       "      <td>Wasilla</td>\n",
       "      <td>Trans Alaska Mechanical LLC</td>\n",
       "      <td>61.5950000000001</td>\n",
       "      <td>-149.3769</td>\n",
       "      <td>888-493-8668</td>\n",
       "      <td>1255 W Winter Ct</td>\n",
       "      <td>AK</td>\n",
       "      <td>http://www.trans-ak.com</td>\n",
       "      <td>99654</td>\n",
       "    </tr>\n",
       "  </tbody>\n",
       "</table>\n",
       "</div>"
      ],
      "text/plain": [
       "        City                         DealerName   LocatorLatitude  \\\n",
       "0  Anchorage  Circle Plumbing &amp;amp; Heating  61.1518000000001   \n",
       "1    Wasilla        Trans Alaska Mechanical LLC  61.5950000000001   \n",
       "2    Wasilla        Trans Alaska Mechanical LLC  61.5950000000001   \n",
       "\n",
       "  LocatorLongitude         Phone      PostalAddress State  \\\n",
       "0        -149.9469  888-581-3991  2317 Raspberry Rd    AK   \n",
       "1        -149.3769  888-493-8668   1255 W Winter Ct    AK   \n",
       "2        -149.3769  888-493-8668   1255 W Winter Ct    AK   \n",
       "\n",
       "                                Website ZipCode  \n",
       "0  http://circleplumbingandheating.com/   99502  \n",
       "1               http://www.trans-ak.com   99654  \n",
       "2               http://www.trans-ak.com   99654  "
      ]
     },
     "execution_count": 20,
     "metadata": {},
     "output_type": "execute_result"
    }
   ],
   "source": [
    "df.drop('DealerNo',axis=1)\n",
    "# dict_list"
   ]
  },
  {
   "cell_type": "code",
   "execution_count": 6,
   "metadata": {},
   "outputs": [
    {
     "data": {
      "text/html": [
       "<div>\n",
       "<style scoped>\n",
       "    .dataframe tbody tr th:only-of-type {\n",
       "        vertical-align: middle;\n",
       "    }\n",
       "\n",
       "    .dataframe tbody tr th {\n",
       "        vertical-align: top;\n",
       "    }\n",
       "\n",
       "    .dataframe thead th {\n",
       "        text-align: right;\n",
       "    }\n",
       "</style>\n",
       "<table border=\"1\" class=\"dataframe\">\n",
       "  <thead>\n",
       "    <tr style=\"text-align: right;\">\n",
       "      <th></th>\n",
       "      <th>DealerName</th>\n",
       "      <th>PostalAddress</th>\n",
       "      <th>City</th>\n",
       "      <th>State</th>\n",
       "      <th>ZipCode</th>\n",
       "      <th>Country</th>\n",
       "      <th>Phone</th>\n",
       "      <th>LocatorLatitude</th>\n",
       "      <th>LocatorLongitude</th>\n",
       "      <th>Website</th>\n",
       "      <th>Brand</th>\n",
       "    </tr>\n",
       "  </thead>\n",
       "  <tbody>\n",
       "    <tr>\n",
       "      <th>0</th>\n",
       "      <td>Circle Plumbing &amp; Heating</td>\n",
       "      <td>2317 Raspberry Rd</td>\n",
       "      <td>Anchorage</td>\n",
       "      <td>AK</td>\n",
       "      <td>99502</td>\n",
       "      <td>United States</td>\n",
       "      <td>888-581-3991</td>\n",
       "      <td>61.1518000000001</td>\n",
       "      <td>-149.9469</td>\n",
       "      <td>http://circleplumbingandheating.com/</td>\n",
       "      <td>Carrier</td>\n",
       "    </tr>\n",
       "    <tr>\n",
       "      <th>1</th>\n",
       "      <td>Trans Alaska Mechanical LLC</td>\n",
       "      <td>1255 W Winter Ct</td>\n",
       "      <td>Wasilla</td>\n",
       "      <td>AK</td>\n",
       "      <td>99654</td>\n",
       "      <td>United States</td>\n",
       "      <td>888-493-8668</td>\n",
       "      <td>61.5950000000001</td>\n",
       "      <td>-149.3769</td>\n",
       "      <td>http://www.trans-ak.com</td>\n",
       "      <td>Carrier</td>\n",
       "    </tr>\n",
       "  </tbody>\n",
       "</table>\n",
       "</div>"
      ],
      "text/plain": [
       "                    DealerName      PostalAddress       City State ZipCode  \\\n",
       "0    Circle Plumbing & Heating  2317 Raspberry Rd  Anchorage    AK   99502   \n",
       "1  Trans Alaska Mechanical LLC   1255 W Winter Ct    Wasilla    AK   99654   \n",
       "\n",
       "         Country         Phone   LocatorLatitude LocatorLongitude  \\\n",
       "0  United States  888-581-3991  61.1518000000001        -149.9469   \n",
       "1  United States  888-493-8668  61.5950000000001        -149.3769   \n",
       "\n",
       "                                Website    Brand  \n",
       "0  http://circleplumbingandheating.com/  Carrier  \n",
       "1               http://www.trans-ak.com  Carrier  "
      ]
     },
     "execution_count": 6,
     "metadata": {},
     "output_type": "execute_result"
    }
   ],
   "source": [
    "df['Country']='United States'\n",
    "df['Brand'] = 'Carrier'\n",
    "df['DealerName']= df['DealerName'].apply(lambda x: x.replace('amp;',''))\n",
    "df['DealerName']= df['DealerName'].apply(lambda x: x.replace(\"#39;\",''))\n",
    "d2 = pd.DataFrame([df.DealerName,df.PostalAddress,df.City,df.State,df.ZipCode,df.Country,df.Phone,df.LocatorLatitude,df.LocatorLongitude,df.Website,df.Brand]).T\n",
    "# d2"
   ]
  },
  {
   "cell_type": "code",
   "execution_count": 85,
   "metadata": {},
   "outputs": [],
   "source": [
    "# d2.to_csv('carrier_scrape.csv',index=False)"
   ]
  },
  {
   "cell_type": "code",
   "execution_count": 1,
   "metadata": {},
   "outputs": [
    {
     "ename": "NameError",
     "evalue": "name 'd2' is not defined",
     "output_type": "error",
     "traceback": [
      "\u001b[1;31m---------------------------------------------------------------------------\u001b[0m",
      "\u001b[1;31mNameError\u001b[0m                                 Traceback (most recent call last)",
      "\u001b[1;32m<ipython-input-1-551e88539aa6>\u001b[0m in \u001b[0;36m<module>\u001b[1;34m()\u001b[0m\n\u001b[0;32m      6\u001b[0m \u001b[1;33m\u001b[0m\u001b[0m\n\u001b[0;32m      7\u001b[0m \u001b[0mengine\u001b[0m \u001b[1;33m=\u001b[0m \u001b[0mcreate_engine\u001b[0m\u001b[1;33m(\u001b[0m\u001b[1;34m\"mssql+pyodbc:///?odbc_connect=%s\"\u001b[0m \u001b[1;33m%\u001b[0m \u001b[0mparams\u001b[0m\u001b[1;33m)\u001b[0m\u001b[1;33m\u001b[0m\u001b[0m\n\u001b[1;32m----> 8\u001b[1;33m \u001b[0md2\u001b[0m\u001b[1;33m.\u001b[0m\u001b[0mto_sql\u001b[0m\u001b[1;33m(\u001b[0m\u001b[1;34m'GBU_Webscrape'\u001b[0m\u001b[1;33m,\u001b[0m\u001b[0mengine\u001b[0m\u001b[1;33m,\u001b[0m\u001b[0mif_exists\u001b[0m\u001b[1;33m=\u001b[0m\u001b[1;34m'append'\u001b[0m\u001b[1;33m,\u001b[0m\u001b[0mindex\u001b[0m\u001b[1;33m=\u001b[0m\u001b[1;32mFalse\u001b[0m\u001b[1;33m)\u001b[0m\u001b[1;33m\u001b[0m\u001b[0m\n\u001b[0m",
      "\u001b[1;31mNameError\u001b[0m: name 'd2' is not defined"
     ]
    }
   ],
   "source": [
    "from sqlalchemy import create_engine\n",
    "import urllib\n",
    "\n",
    "\n",
    "params = urllib.parse.quote_plus('DRIVER={SQL Server Native Client 10.0};Server=gmlsql2hou; DATABASE=invplannersapp;Trusted_Connection=yes;')\n",
    "\n",
    "engine = create_engine(\"mssql+pyodbc:///?odbc_connect=%s\" % params)\n",
    "d2.to_sql('GBU_Webscrape',engine,if_exists='append',index=False)\n"
   ]
  },
  {
   "cell_type": "code",
   "execution_count": null,
   "metadata": {},
   "outputs": [],
   "source": [
    "# cn = pyodbc.connect('DRIVER={SQL Server Native Client 10.0};Server=gmlsql2hou; DATABASE=invplannersapp;Trusted_Connection=yes;')\n",
    "\n",
    "# dftest = pd.read_sql('select * from invplannersapp.dbo.gbu_webscrape',cn)\n",
    "# dftest"
   ]
  },
  {
   "cell_type": "code",
   "execution_count": 6,
   "metadata": {},
   "outputs": [],
   "source": [
    "start = [x for x in range(0,50000,1000)]\n",
    "finish = [x for x in range(1000,51000,1000)]"
   ]
  },
  {
   "cell_type": "code",
   "execution_count": 8,
   "metadata": {},
   "outputs": [
    {
     "data": {
      "text/plain": [
       "50"
      ]
     },
     "execution_count": 8,
     "metadata": {},
     "output_type": "execute_result"
    }
   ],
   "source": [
    "len(finish)"
   ]
  }
 ],
 "metadata": {
  "kernelspec": {
   "display_name": "Python 3",
   "language": "python",
   "name": "python3"
  },
  "language_info": {
   "codemirror_mode": {
    "name": "ipython",
    "version": 3
   },
   "file_extension": ".py",
   "mimetype": "text/x-python",
   "name": "python",
   "nbconvert_exporter": "python",
   "pygments_lexer": "ipython3",
   "version": "3.7.0"
  }
 },
 "nbformat": 4,
 "nbformat_minor": 2
}
