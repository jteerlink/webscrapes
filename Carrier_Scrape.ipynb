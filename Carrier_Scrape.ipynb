{
 "cells": [
  {
   "cell_type": "code",
   "execution_count": 1,
   "metadata": {},
   "outputs": [],
   "source": [
    "from splinter import Browser\n",
    "from bs4 import BeautifulSoup\n",
    "import pandas as pd\n",
    "import re"
   ]
  },
  {
   "cell_type": "code",
   "execution_count": 2,
   "metadata": {},
   "outputs": [
    {
     "data": {
      "text/plain": [
       "0    99501\n",
       "1    99502\n",
       "2    99503\n",
       "3    99504\n",
       "4    99505\n",
       "Name: zip_code, dtype: int64"
      ]
     },
     "execution_count": 2,
     "metadata": {},
     "output_type": "execute_result"
    }
   ],
   "source": [
    "zipcodes = pd.read_csv('C:/Anaconda/US_zipcodes.csv')\n",
    "zipcodes.zip_code[0:5]"
   ]
  },
  {
   "cell_type": "code",
   "execution_count": 13,
   "metadata": {},
   "outputs": [],
   "source": [
    "# Set the executable path and initialize the chrome browser in splinter\n",
    "executable_path = {'executable_path': 'chromedriver'}\n",
    "browser = Browser('chrome', **executable_path, wait_time=3)"
   ]
  },
  {
   "cell_type": "code",
   "execution_count": 14,
   "metadata": {},
   "outputs": [],
   "source": [
    "# Visit Carrier Dealer Locator site\n",
    "url = 'https://www.carrier.com/residential/en/us/find-a-dealer/'\n",
    "browser.visit(url)\n",
    "\n"
   ]
  },
  {
   "cell_type": "code",
   "execution_count": 167,
   "metadata": {},
   "outputs": [],
   "source": [
    "# browser.find_by_name(name=\"ctl00$pageContent$FindADealer$dealerLocator\").fill('75034')\n",
    "# # browser.find_by_value('Featured Dealers').click()\n",
    "# # browser.find_by_value('All Dealers').click()\n",
    "\n",
    "# browser.find_by_id(\"pageContent_FindADealer_btnSubmit\").click()\n",
    "# # browser.find_by_name(\"ctl00$pageContent$FindADealer$btnDealerType\").click()\n",
    "# # browser.find_by_css('h3')\n",
    "\n",
    "\n",
    "# html = browser.html\n",
    "# carrier_soup = BeautifulSoup(html, 'html.parser')"
   ]
  },
  {
   "cell_type": "code",
   "execution_count": 17,
   "metadata": {},
   "outputs": [
    {
     "name": "stdout",
     "output_type": "stream",
     "text": [
      "--- 599.2109997272491 seconds ---\n"
     ]
    }
   ],
   "source": [
    "# This script will scrape dealer information based on a list of zipcodes\n",
    "# The dealer information is contained in a javascript array of objects \n",
    "import time\n",
    "start_time = time.time()\n",
    "\n",
    "\n",
    "\n",
    "\n",
    "df=pd.DataFrame()\n",
    "for z in zipcodes.zip_code[0:10]:\n",
    "    browser.cookies.delete()\n",
    "    browser.find_by_name(name=\"ctl00$pageContent$FindADealer$dealerLocator\").fill(z)\n",
    "    browser.find_by_id(\"pageContent_FindADealer_btnSubmit\").click()\n",
    "    html = browser.html\n",
    "    carrier_soup = BeautifulSoup(html, 'html.parser')\n",
    "    dict_list=[]\n",
    "    for i in range(29)[19:]:\n",
    "        try:  #finds and extracts only portion of javascript embedded in html that contains array of objects(python dictionary) as a string\n",
    "            dict_list.append(re.findall(\"(?<=\\\\')[^\\\\[),';].*?(?=\\\\')\",carrier_soup.find_all('script')[i].get_text(strip=True)))  \n",
    "        \n",
    "        except:\n",
    "            pass\n",
    "#this block cleans up list of objects to be converted in list of dictionaries then to a dataframe\n",
    "    clean_list=[]   \n",
    "    for d in dict_list:\n",
    "        try:\n",
    "            clean_list.append(eval(d[0]))\n",
    "        except:\n",
    "            pass\n",
    "    for d in clean_list:  #this dealer no is the list number on each page not the actual dealer account number\n",
    "        del d['DealerNo']\n",
    "        \n",
    "    df=df.append(pd.DataFrame(clean_list),ignore_index=True)\n",
    "    df.drop_duplicates(inplace=True)\n",
    "# df\n",
    "\n",
    "print(\"--- %s seconds ---\" % (time.time() - start_time))"
   ]
  },
  {
   "cell_type": "code",
   "execution_count": 19,
   "metadata": {},
   "outputs": [
    {
     "data": {
      "text/html": [
       "<div>\n",
       "<style scoped>\n",
       "    .dataframe tbody tr th:only-of-type {\n",
       "        vertical-align: middle;\n",
       "    }\n",
       "\n",
       "    .dataframe tbody tr th {\n",
       "        vertical-align: top;\n",
       "    }\n",
       "\n",
       "    .dataframe thead th {\n",
       "        text-align: right;\n",
       "    }\n",
       "</style>\n",
       "<table border=\"1\" class=\"dataframe\">\n",
       "  <thead>\n",
       "    <tr style=\"text-align: right;\">\n",
       "      <th></th>\n",
       "      <th>City</th>\n",
       "      <th>DealerName</th>\n",
       "      <th>LocatorLatitude</th>\n",
       "      <th>LocatorLongitude</th>\n",
       "      <th>Phone</th>\n",
       "      <th>PostalAddress</th>\n",
       "      <th>State</th>\n",
       "      <th>Website</th>\n",
       "      <th>ZipCode</th>\n",
       "    </tr>\n",
       "  </thead>\n",
       "  <tbody>\n",
       "    <tr>\n",
       "      <th>0</th>\n",
       "      <td>Anchorage</td>\n",
       "      <td>Circle Plumbing &amp;amp;amp; Heating</td>\n",
       "      <td>61.1518000000001</td>\n",
       "      <td>-149.9469</td>\n",
       "      <td>888-581-3991</td>\n",
       "      <td>2317 Raspberry Rd</td>\n",
       "      <td>AK</td>\n",
       "      <td>http://circleplumbingandheating.com/</td>\n",
       "      <td>99502</td>\n",
       "    </tr>\n",
       "    <tr>\n",
       "      <th>1</th>\n",
       "      <td>Wasilla</td>\n",
       "      <td>Trans Alaska Mechanical LLC</td>\n",
       "      <td>61.5950000000001</td>\n",
       "      <td>-149.3769</td>\n",
       "      <td>888-493-8668</td>\n",
       "      <td>1255 W Winter Ct</td>\n",
       "      <td>AK</td>\n",
       "      <td>http://www.trans-ak.com</td>\n",
       "      <td>99654</td>\n",
       "    </tr>\n",
       "    <tr>\n",
       "      <th>2</th>\n",
       "      <td>Spokane</td>\n",
       "      <td>KTU of Spokane</td>\n",
       "      <td>47.7984</td>\n",
       "      <td>-117.3853</td>\n",
       "      <td>509-850-9432</td>\n",
       "      <td>PO Box 28899</td>\n",
       "      <td>WA</td>\n",
       "      <td></td>\n",
       "      <td>99228</td>\n",
       "    </tr>\n",
       "  </tbody>\n",
       "</table>\n",
       "</div>"
      ],
      "text/plain": [
       "        City                         DealerName   LocatorLatitude  \\\n",
       "0  Anchorage  Circle Plumbing &amp;amp; Heating  61.1518000000001   \n",
       "1    Wasilla        Trans Alaska Mechanical LLC  61.5950000000001   \n",
       "2    Spokane                     KTU of Spokane           47.7984   \n",
       "\n",
       "  LocatorLongitude         Phone      PostalAddress State  \\\n",
       "0        -149.9469  888-581-3991  2317 Raspberry Rd    AK   \n",
       "1        -149.3769  888-493-8668   1255 W Winter Ct    AK   \n",
       "2        -117.3853  509-850-9432       PO Box 28899    WA   \n",
       "\n",
       "                                Website ZipCode  \n",
       "0  http://circleplumbingandheating.com/   99502  \n",
       "1               http://www.trans-ak.com   99654  \n",
       "2                                         99228  "
      ]
     },
     "execution_count": 19,
     "metadata": {},
     "output_type": "execute_result"
    }
   ],
   "source": [
    "df"
   ]
  },
  {
   "cell_type": "code",
   "execution_count": null,
   "metadata": {},
   "outputs": [],
   "source": [
    "\n"
   ]
  },
  {
   "cell_type": "code",
   "execution_count": null,
   "metadata": {},
   "outputs": [],
   "source": []
  }
 ],
 "metadata": {
  "kernelspec": {
   "display_name": "Python 3",
   "language": "python",
   "name": "python3"
  },
  "language_info": {
   "codemirror_mode": {
    "name": "ipython",
    "version": 3
   },
   "file_extension": ".py",
   "mimetype": "text/x-python",
   "name": "python",
   "nbconvert_exporter": "python",
   "pygments_lexer": "ipython3",
   "version": "3.7.0"
  }
 },
 "nbformat": 4,
 "nbformat_minor": 2
}
