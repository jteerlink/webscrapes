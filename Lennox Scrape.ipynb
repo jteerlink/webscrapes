{
 "cells": [
  {
   "cell_type": "code",
   "execution_count": 1,
   "metadata": {
    "collapsed": true
   },
   "outputs": [],
   "source": [
    "# Import dependencies\n",
    "from splinter import Browser\n",
    "from selenium import webdriver\n",
    "from bs4 import BeautifulSoup\n",
    "import pandas as pd\n",
    "import re"
   ]
  },
  {
   "cell_type": "code",
   "execution_count": 10,
   "metadata": {
    "collapsed": true
   },
   "outputs": [],
   "source": [
    "# Set the executable path and initialize the chrome browser in splinter\n",
    "executable_path = {'executable_path': 'C:/Anaconda/webscrapes/chromedriver'}\n",
    "chrome_options = webdriver.ChromeOptions()\n",
    "chrome_options.add_argument('log-level=3')\n",
    "browser = Browser('chrome', **executable_path, wait_time=2,headless=True,options=chrome_options)"
   ]
  },
  {
   "cell_type": "code",
   "execution_count": 11,
   "metadata": {
    "collapsed": true
   },
   "outputs": [],
   "source": [
    "# scrape links to each dealer and place in a list\n",
    "url = 'https://www.lennox.com/locate/dealer-list/'\n",
    "browser.visit(url)\n",
    "html = browser.html\n",
    "lennox_soup = BeautifulSoup(html, 'html.parser')\n",
    "\n",
    "dealer_links = []\n",
    "\n",
    "for i in lennox_soup.find_all(href=re.compile('/locate/dealer')):\n",
    "    dealer_links.append('https://www.lennox.com'+i.get('href'))"
   ]
  },
  {
   "cell_type": "code",
   "execution_count": 15,
   "metadata": {},
   "outputs": [
    {
     "name": "stdout",
     "output_type": "stream",
     "text": [
      "--- 172.66899991035461 seconds ---\n"
     ]
    }
   ],
   "source": [
    "# import time\n",
    "# start_time = time.time()\n",
    "\n",
    "df = pd.DataFrame()\n",
    "for dealer in dealer_links[1:100]:\n",
    "    try:\n",
    "        browser.visit(dealer)\n",
    "        html = browser.html\n",
    "        dealer_soup = BeautifulSoup(html, 'html.parser')\n",
    "        \n",
    "        name = dealer_soup.find(itemprop='name').get_text(strip=True)\n",
    "        street = dealer_soup.find(itemprop='streetAddress').get_text(strip=True)\n",
    "        city = dealer_soup.find(itemprop='addressLocality').get_text(strip=True)\n",
    "        state = dealer_soup.find(itemprop='addressRegion').get_text(strip=True)\n",
    "        zipcode = dealer_soup.find(itemprop='PostalCode').get_text(strip=True)\n",
    "        country = dealer_soup.find(itemprop=\"addressCountry\")['content']\n",
    "        phone = dealer_soup.find(itemprop='telephone').get_text('[0-9]',strip=True)[-12:]\n",
    "        lat = dealer_soup.find(itemprop=\"latitude\")['content']\n",
    "        long = dealer_soup.find(itemprop=\"longitude\")['content']\n",
    "        try:\n",
    "            website = dealer_soup.find(attrs={'class':'website ng-binding ng-scope'}).get('href')\n",
    "        except:\n",
    "            website = ''\n",
    "        \n",
    "    except:\n",
    "        pass\n",
    "    dealer_df = pd.DataFrame({'name':name,\n",
    "                             'street':street,\n",
    "                             'city':city,\n",
    "                             'state':state,\n",
    "                             'zipcode':zipcode,\n",
    "                             'country':country,\n",
    "                             'phone':phone,\n",
    "                             'lat':lat,\n",
    "                             'long':long,\n",
    "                             'website':website,\n",
    "                             'brand':'Lennox'},index=[0]\n",
    "                             \n",
    "                            )\n",
    "\n",
    "    df = df.append(dealer_df,ignore_index=True)\n",
    "browser.quit()    \n",
    "# print(\"--- %s seconds ---\" % (time.time() - start_time))"
   ]
  },
  {
   "cell_type": "code",
   "execution_count": null,
   "metadata": {},
   "outputs": [],
   "source": [
    "from sqlalchemy import create_engine\n",
    "import urllib\n",
    "\n",
    "\n",
    "params = urllib.parse.quote_plus('DRIVER={SQL Server Native Client 10.0};Server=gmlsql2hou; DATABASE=invplannersapp;Trusted_Connection=yes;')\n",
    "\n",
    "engine = create_engine(\"mssql+pyodbc:///?odbc_connect=%s\" % params)\n",
    "df.to_sql('GBU_Webscrape',engine,if_exists='append',index=False)"
   ]
  },
  {
   "cell_type": "code",
   "execution_count": 17,
   "metadata": {},
   "outputs": [
    {
     "name": "stdout",
     "output_type": "stream",
     "text": [
      "Lennox Scrape completed\n"
     ]
    }
   ],
   "source": [
    "print('Lennox Scrape completed')"
   ]
  }
 ],
 "metadata": {
  "kernel_info": {
   "name": "python3"
  },
  "kernelspec": {
   "display_name": "Python 3",
   "language": "python",
   "name": "python3"
  },
  "language_info": {
   "codemirror_mode": {
    "name": "ipython",
    "version": 3
   },
   "file_extension": ".py",
   "mimetype": "text/x-python",
   "name": "python",
   "nbconvert_exporter": "python",
   "pygments_lexer": "ipython3",
   "version": "3.7.0"
  },
  "nteract": {
   "version": "0.12.3"
  }
 },
 "nbformat": 4,
 "nbformat_minor": 2
}
