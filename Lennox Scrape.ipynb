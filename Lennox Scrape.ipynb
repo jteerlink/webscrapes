{
 "cells": [
  {
   "cell_type": "code",
   "execution_count": 9,
   "metadata": {
    "collapsed": true
   },
   "outputs": [],
   "source": [
    "# Import Splinter and BeautifulSoup\n",
    "from splinter import Browser\n",
    "from bs4 import BeautifulSoup"
   ]
  },
  {
   "cell_type": "code",
   "execution_count": 10,
   "metadata": {},
   "outputs": [
    {
     "name": "stdout",
     "output_type": "stream",
     "text": [
      "/c/Anaconda/chromedriver/chromedriver\n"
     ]
    }
   ],
   "source": [
    "# Path to chromedriver\n",
    "!which chromedriver"
   ]
  },
  {
   "cell_type": "code",
   "execution_count": 11,
   "metadata": {
    "collapsed": true
   },
   "outputs": [],
   "source": [
    "# Set the executable path and initialize the chrome browser in splinter\n",
    "executable_path = {'executable_path': 'chromedriver'}\n",
    "browser = Browser('chrome', **executable_path, wait_time=1)"
   ]
  },
  {
   "cell_type": "code",
   "execution_count": 57,
   "metadata": {
    "collapsed": true
   },
   "outputs": [],
   "source": [
    "# Visit the mars nasa news site\n",
    "url = 'https://www.lennox.com/locate/dealer-list/'\n",
    "browser.visit(url)\n",
    "\n",
    "# Optional delay for loading the page\n",
    "# browser.is_element_present_by_css('accordion-item ng-scope', wait_time=15)"
   ]
  },
  {
   "cell_type": "code",
   "execution_count": 58,
   "metadata": {
    "collapsed": true
   },
   "outputs": [],
   "source": [
    "# Convert the browser html to a soup object and then quit the browser\n",
    "html = browser.html\n",
    "lennox_soup = BeautifulSoup(html, 'html.parser')\n",
    "\n",
    "# slide_elem = lennox_soup.select('li')"
   ]
  },
  {
   "cell_type": "code",
   "execution_count": null,
   "metadata": {},
   "outputs": [],
   "source": [
    "# lennox_soup.find_all('a')\n",
    "dealer_links = []\n",
    "import re\n",
    "for i in lennox_soup.find_all(href=re.compile('/locate/dealer')):\n",
    "    dealer_links.append('https://www.lennox.com'+i.get('href'))\n",
    "    \n",
    "    \n",
    "dealer_links[1:]"
   ]
  },
  {
   "cell_type": "code",
   "execution_count": 62,
   "metadata": {},
   "outputs": [
    {
     "data": {
      "text/html": [
       "<div>\n",
       "<style scoped>\n",
       "    .dataframe tbody tr th:only-of-type {\n",
       "        vertical-align: middle;\n",
       "    }\n",
       "\n",
       "    .dataframe tbody tr th {\n",
       "        vertical-align: top;\n",
       "    }\n",
       "\n",
       "    .dataframe thead th {\n",
       "        text-align: right;\n",
       "    }\n",
       "</style>\n",
       "<table border=\"1\" class=\"dataframe\">\n",
       "  <thead>\n",
       "    <tr style=\"text-align: right;\">\n",
       "      <th></th>\n",
       "      <th>name</th>\n",
       "      <th>street</th>\n",
       "      <th>city</th>\n",
       "      <th>state</th>\n",
       "      <th>zipcode</th>\n",
       "      <th>country</th>\n",
       "      <th>phone</th>\n",
       "      <th>lat</th>\n",
       "      <th>long</th>\n",
       "      <th>website</th>\n",
       "      <th>brand</th>\n",
       "    </tr>\n",
       "  </thead>\n",
       "  <tbody>\n",
       "    <tr>\n",
       "      <th>0</th>\n",
       "      <td>Action Htg AC &amp; Refrig Inc</td>\n",
       "      <td>7740 TARA DR</td>\n",
       "      <td>SEMMES</td>\n",
       "      <td>Alabama</td>\n",
       "      <td>36575-7478</td>\n",
       "      <td>United States</td>\n",
       "      <td>251-645-0089</td>\n",
       "      <td>30.725487</td>\n",
       "      <td>-88.223907</td>\n",
       "      <td></td>\n",
       "      <td>Lennox</td>\n",
       "    </tr>\n",
       "    <tr>\n",
       "      <th>1</th>\n",
       "      <td>Air Now Heating &amp; Cooling Inc</td>\n",
       "      <td>3481 MAIN ST</td>\n",
       "      <td>MILLBROOK</td>\n",
       "      <td>Alabama</td>\n",
       "      <td>36054-3216</td>\n",
       "      <td>United States</td>\n",
       "      <td>334-641-0046</td>\n",
       "      <td>32.480698</td>\n",
       "      <td>-86.363472</td>\n",
       "      <td></td>\n",
       "      <td>Lennox</td>\n",
       "    </tr>\n",
       "    <tr>\n",
       "      <th>2</th>\n",
       "      <td>Aire Serv Of Huntsville</td>\n",
       "      <td>2106 W FERRY WAY SW STE E</td>\n",
       "      <td>HUNTSVILLE</td>\n",
       "      <td>Alabama</td>\n",
       "      <td>35801-5347</td>\n",
       "      <td>United States</td>\n",
       "      <td>256-288-0164</td>\n",
       "      <td>34.699978</td>\n",
       "      <td>-86.591904</td>\n",
       "      <td></td>\n",
       "      <td>Lennox</td>\n",
       "    </tr>\n",
       "    <tr>\n",
       "      <th>3</th>\n",
       "      <td>Aireserv Over the Mountain</td>\n",
       "      <td>2812 RUFFNER RD</td>\n",
       "      <td>BIRMINGHAM</td>\n",
       "      <td>Alabama</td>\n",
       "      <td>35210-3916</td>\n",
       "      <td>United States</td>\n",
       "      <td>\\n</td>\n",
       "      <td>33.583153</td>\n",
       "      <td>-86.663979</td>\n",
       "      <td></td>\n",
       "      <td>Lennox</td>\n",
       "    </tr>\n",
       "    <tr>\n",
       "      <th>4</th>\n",
       "      <td>All Weather Htg &amp; Air Cond Inc</td>\n",
       "      <td>104 DOMINION CIR</td>\n",
       "      <td>HUNTSVILLE</td>\n",
       "      <td>Alabama</td>\n",
       "      <td>35811-8924</td>\n",
       "      <td>United States</td>\n",
       "      <td>256-677-9301</td>\n",
       "      <td>34.800598</td>\n",
       "      <td>-86.533997</td>\n",
       "      <td>http://www.huntsvilleacexperts.com</td>\n",
       "      <td>Lennox</td>\n",
       "    </tr>\n",
       "    <tr>\n",
       "      <th>5</th>\n",
       "      <td>Annette Hale's Indoor Comfort Syste</td>\n",
       "      <td>1201 CHURCH ST NW</td>\n",
       "      <td>HUNTSVILLE</td>\n",
       "      <td>Alabama</td>\n",
       "      <td>35801-5917</td>\n",
       "      <td>United States</td>\n",
       "      <td>256-885-0430</td>\n",
       "      <td>34.746601</td>\n",
       "      <td>-86.597298</td>\n",
       "      <td></td>\n",
       "      <td>Lennox</td>\n",
       "    </tr>\n",
       "    <tr>\n",
       "      <th>6</th>\n",
       "      <td>Bain Htg &amp; A/C Inc</td>\n",
       "      <td>1084 COUNTY ROAD 204</td>\n",
       "      <td>HEFLIN</td>\n",
       "      <td>Alabama</td>\n",
       "      <td>36264-8915</td>\n",
       "      <td>United States</td>\n",
       "      <td>855-230-2287</td>\n",
       "      <td>33.477699</td>\n",
       "      <td>-85.562599</td>\n",
       "      <td>http://www.bainheatingandac.com</td>\n",
       "      <td>Lennox</td>\n",
       "    </tr>\n",
       "    <tr>\n",
       "      <th>7</th>\n",
       "      <td>Bay Aire Inc</td>\n",
       "      <td>9882 County Rd 32</td>\n",
       "      <td>Fairhope</td>\n",
       "      <td>Alabama</td>\n",
       "      <td>36532</td>\n",
       "      <td>United States</td>\n",
       "      <td>251-928-3096</td>\n",
       "      <td>30.472401</td>\n",
       "      <td>-87.8545</td>\n",
       "      <td>http://www.bayaire.com</td>\n",
       "      <td>Lennox</td>\n",
       "    </tr>\n",
       "    <tr>\n",
       "      <th>8</th>\n",
       "      <td>Bob Woodall Air Care Systems</td>\n",
       "      <td>412 N Foster St</td>\n",
       "      <td>Dothan</td>\n",
       "      <td>Alabama</td>\n",
       "      <td>36303</td>\n",
       "      <td>United States</td>\n",
       "      <td>855-351-9590</td>\n",
       "      <td>31.2285</td>\n",
       "      <td>-85.392197</td>\n",
       "      <td>http://www.callbob.com/</td>\n",
       "      <td>Lennox</td>\n",
       "    </tr>\n",
       "  </tbody>\n",
       "</table>\n",
       "</div>"
      ],
      "text/plain": [
       "                                  name                     street        city  \\\n",
       "0           Action Htg AC & Refrig Inc               7740 TARA DR      SEMMES   \n",
       "1        Air Now Heating & Cooling Inc               3481 MAIN ST   MILLBROOK   \n",
       "2              Aire Serv Of Huntsville  2106 W FERRY WAY SW STE E  HUNTSVILLE   \n",
       "3           Aireserv Over the Mountain            2812 RUFFNER RD  BIRMINGHAM   \n",
       "4       All Weather Htg & Air Cond Inc           104 DOMINION CIR  HUNTSVILLE   \n",
       "5  Annette Hale's Indoor Comfort Syste          1201 CHURCH ST NW  HUNTSVILLE   \n",
       "6                   Bain Htg & A/C Inc       1084 COUNTY ROAD 204      HEFLIN   \n",
       "7                         Bay Aire Inc          9882 County Rd 32    Fairhope   \n",
       "8         Bob Woodall Air Care Systems            412 N Foster St      Dothan   \n",
       "\n",
       "     state     zipcode        country         phone        lat        long  \\\n",
       "0  Alabama  36575-7478  United States  251-645-0089  30.725487  -88.223907   \n",
       "1  Alabama  36054-3216  United States  334-641-0046  32.480698  -86.363472   \n",
       "2  Alabama  35801-5347  United States  256-288-0164  34.699978  -86.591904   \n",
       "3  Alabama  35210-3916  United States            \\n  33.583153  -86.663979   \n",
       "4  Alabama  35811-8924  United States  256-677-9301  34.800598  -86.533997   \n",
       "5  Alabama  35801-5917  United States  256-885-0430  34.746601  -86.597298   \n",
       "6  Alabama  36264-8915  United States  855-230-2287  33.477699  -85.562599   \n",
       "7  Alabama       36532  United States  251-928-3096  30.472401    -87.8545   \n",
       "8  Alabama       36303  United States  855-351-9590    31.2285  -85.392197   \n",
       "\n",
       "                              website   brand  \n",
       "0                                      Lennox  \n",
       "1                                      Lennox  \n",
       "2                                      Lennox  \n",
       "3                                      Lennox  \n",
       "4  http://www.huntsvilleacexperts.com  Lennox  \n",
       "5                                      Lennox  \n",
       "6     http://www.bainheatingandac.com  Lennox  \n",
       "7              http://www.bayaire.com  Lennox  \n",
       "8             http://www.callbob.com/  Lennox  "
      ]
     },
     "execution_count": 62,
     "metadata": {},
     "output_type": "execute_result"
    }
   ],
   "source": [
    "# df = pd.DataFrame(columns = ['Name','Street','City','State','Zip','Phone','Lat','Long','Website'])\n",
    "df = pd.DataFrame()\n",
    "for dealer in dealer_links[1:10]:\n",
    "    try:\n",
    "        browser.visit(dealer)\n",
    "        html = browser.html\n",
    "        dealer_soup = BeautifulSoup(html, 'html.parser')\n",
    "        \n",
    "        name = dealer_soup.find(itemprop='name').get_text()\n",
    "        street = dealer_soup.find(itemprop='streetAddress').get_text()\n",
    "        city = dealer_soup.find(itemprop='addressLocality').get_text()\n",
    "        state = dealer_soup.find(itemprop='addressRegion').get_text()\n",
    "        zipcode = dealer_soup.find(itemprop='PostalCode').get_text()\n",
    "        country = dealer_soup.find(itemprop=\"addressCountry\")['content']\n",
    "        phone = dealer_soup.find(itemprop='telephone').get_text('[0-9]')[-12:]\n",
    "        lat = dealer_soup.find(itemprop=\"latitude\")['content']\n",
    "        long = dealer_soup.find(itemprop=\"longitude\")['content']\n",
    "        try:\n",
    "            website = dealer_soup.find(attrs={'class':'website ng-binding ng-scope'}).get('href')\n",
    "        except:\n",
    "            website = ''\n",
    "        \n",
    "    except:\n",
    "        print('This one doesnt have it')\n",
    "    dealer_df = pd.DataFrame({'name':name,\n",
    "                             'street':street,\n",
    "                             'city':city,\n",
    "                             'state':state,\n",
    "                             'zipcode':zipcode,\n",
    "                             'country':country,\n",
    "                             'phone':phone,\n",
    "                             'lat':lat,\n",
    "                             'long':long,\n",
    "                             'website':website,\n",
    "                             'brand':'Lennox'},index=[0]\n",
    "                             \n",
    "                            )\n",
    "#     print(dealer_df)\n",
    "    df = df.append(dealer_df,ignore_index=True)\n",
    "df"
   ]
  },
  {
   "cell_type": "code",
   "execution_count": null,
   "metadata": {},
   "outputs": [],
   "source": [
    "df"
   ]
  },
  {
   "cell_type": "code",
   "execution_count": 41,
   "metadata": {},
   "outputs": [],
   "source": [
    "dealerurl = 'https://www.lennox.com/locate/dealer/al/huntsville/all-weather-htg-and-air-cond-inc'\n",
    "browser.visit(dealerurl)"
   ]
  },
  {
   "cell_type": "code",
   "execution_count": 49,
   "metadata": {},
   "outputs": [],
   "source": [
    "html = browser.html\n",
    "dealer_soup = BeautifulSoup(html, 'html.parser')"
   ]
  },
  {
   "cell_type": "code",
   "execution_count": 56,
   "metadata": {},
   "outputs": [
    {
     "data": {
      "text/plain": [
       "'http://www.huntsvilleacexperts.com'"
      ]
     },
     "execution_count": 56,
     "metadata": {},
     "output_type": "execute_result"
    }
   ],
   "source": [
    "# df = pd.DataFrame(columns = ['Name','Street','City','State','Zip','Country','Phone','Lat','Long','Website'])\n",
    "# df.Street = dealer_soup.find(itemprop='streetAddress').get_text()\n",
    "# df.City = dealer_soup.find(itemprop='addressLocality').get_text()\n",
    "# df.State = dealer_soup.find(itemprop='addressRegion').get_text()\n",
    "# df.Zip = dealer_soup.find(itemprop='PostalCode').get_text()\n",
    "# df.Country = dealer_soup.find(itemprop=\"addressCountry\")['content']\n",
    "# df.Phone = dealer_soup.find(itemprop='telephone').get_text()[-12:]\n",
    "# df.Lat = dealer_soup.find(itemprop=\"latitude\")['content']\n",
    "# df.Long = dealer_soup.find(itemprop=\"longitude\")['content']\n",
    "dealer_soup.find(attrs={'class':'website ng-binding ng-scope'}).get('href')\n",
    "# df.Name = dealer_soup.find(itemprop='name').get_text()"
   ]
  },
  {
   "cell_type": "code",
   "execution_count": null,
   "metadata": {},
   "outputs": [],
   "source": []
  },
  {
   "cell_type": "code",
   "execution_count": null,
   "metadata": {},
   "outputs": [],
   "source": []
  },
  {
   "cell_type": "code",
   "execution_count": null,
   "metadata": {},
   "outputs": [],
   "source": []
  },
  {
   "cell_type": "code",
   "execution_count": null,
   "metadata": {},
   "outputs": [],
   "source": []
  },
  {
   "cell_type": "code",
   "execution_count": null,
   "metadata": {},
   "outputs": [],
   "source": []
  },
  {
   "cell_type": "code",
   "execution_count": null,
   "metadata": {},
   "outputs": [],
   "source": []
  },
  {
   "cell_type": "code",
   "execution_count": 7,
   "metadata": {},
   "outputs": [
    {
     "data": {
      "text/plain": [
       "'NASA Sets Sights on May 5 Launch of InSight to Mars'"
      ]
     },
     "execution_count": 7,
     "metadata": {},
     "output_type": "execute_result"
    }
   ],
   "source": [
    "# Use the parent element to find the first a tag and save it as `news_title`\n",
    "news_title = slide_elem.find(\"div\", class_='content_title').get_text()\n",
    "news_title"
   ]
  },
  {
   "cell_type": "code",
   "execution_count": 8,
   "metadata": {},
   "outputs": [
    {
     "data": {
      "text/plain": [
       "'NASA’s next mission to Mars, InSight, is scheduled to launch Saturday, May 5, on a first-ever mission to study the heart of the Red Planet.'"
      ]
     },
     "execution_count": 8,
     "metadata": {},
     "output_type": "execute_result"
    }
   ],
   "source": [
    "# Use the parent element to find the paragraph text\n",
    "news_p = slide_elem.find('div', class_=\"article_teaser_body\").get_text()\n",
    "news_p"
   ]
  },
  {
   "cell_type": "markdown",
   "metadata": {},
   "source": [
    "## JPL Space Images Featured Image"
   ]
  },
  {
   "cell_type": "code",
   "execution_count": 9,
   "metadata": {
    "collapsed": true
   },
   "outputs": [],
   "source": [
    "# Visit URL\n",
    "url = 'https://www.jpl.nasa.gov/spaceimages/?search=&category=Mars'\n",
    "browser.visit(url)"
   ]
  },
  {
   "cell_type": "code",
   "execution_count": 10,
   "metadata": {
    "collapsed": true
   },
   "outputs": [],
   "source": [
    "# Find and click the full image button\n",
    "full_image_elem = browser.find_by_id('full_image')\n",
    "full_image_elem.click()"
   ]
  },
  {
   "cell_type": "code",
   "execution_count": 11,
   "metadata": {
    "collapsed": true
   },
   "outputs": [],
   "source": [
    "# Find the more info button and click that\n",
    "browser.is_element_present_by_text('more info', wait_time=1)\n",
    "more_info_elem = browser.find_link_by_partial_text('more info')\n",
    "more_info_elem.click()"
   ]
  },
  {
   "cell_type": "code",
   "execution_count": 12,
   "metadata": {
    "collapsed": true
   },
   "outputs": [],
   "source": [
    "# Parse the resulting html with soup\n",
    "html = browser.html\n",
    "img_soup = BeautifulSoup(html, 'html.parser')"
   ]
  },
  {
   "cell_type": "code",
   "execution_count": 13,
   "metadata": {},
   "outputs": [
    {
     "data": {
      "text/plain": [
       "'/spaceimages/images/largesize/PIA16105_hires.jpg'"
      ]
     },
     "execution_count": 13,
     "metadata": {},
     "output_type": "execute_result"
    }
   ],
   "source": [
    "# find the relative image url\n",
    "img_url_rel = img_soup.select_one('figure.lede a img').get(\"src\")\n",
    "img_url_rel"
   ]
  },
  {
   "cell_type": "code",
   "execution_count": 14,
   "metadata": {},
   "outputs": [
    {
     "data": {
      "text/plain": [
       "'https://www.jpl.nasa.gov/spaceimages/images/largesize/PIA16105_hires.jpg'"
      ]
     },
     "execution_count": 14,
     "metadata": {},
     "output_type": "execute_result"
    }
   ],
   "source": [
    "# Use the base url to create an absolute url\n",
    "img_url = f'https://www.jpl.nasa.gov{img_url_rel}'\n",
    "img_url"
   ]
  },
  {
   "cell_type": "markdown",
   "metadata": {},
   "source": [
    "## Mars Weather"
   ]
  },
  {
   "cell_type": "code",
   "execution_count": 15,
   "metadata": {
    "collapsed": true
   },
   "outputs": [],
   "source": [
    "url = 'https://twitter.com/marswxreport?lang=en'\n",
    "browser.visit(url)"
   ]
  },
  {
   "cell_type": "code",
   "execution_count": 16,
   "metadata": {
    "collapsed": true
   },
   "outputs": [],
   "source": [
    "html = browser.html\n",
    "weather_soup = BeautifulSoup(html, 'html.parser')"
   ]
  },
  {
   "cell_type": "code",
   "execution_count": 17,
   "metadata": {
    "collapsed": true
   },
   "outputs": [],
   "source": [
    "# First, find a tweet with the data-name `Mars Weather`\n",
    "mars_weather_tweet = weather_soup.find('div', attrs={\"class\": \"tweet\", \"data-name\": \"Mars Weather\"})"
   ]
  },
  {
   "cell_type": "code",
   "execution_count": 18,
   "metadata": {},
   "outputs": [
    {
     "data": {
      "text/plain": [
       "'Sol 2033 (April 25, 2018), Sunny, high -10C/14F, low -71C/-95F, pressure at 7.23 hPa, daylight 05:24-17:20'"
      ]
     },
     "execution_count": 18,
     "metadata": {},
     "output_type": "execute_result"
    }
   ],
   "source": [
    "# Next, search within the tweet for the p tag containing the tweet text\n",
    "mars_weather = mars_weather_tweet.find('p', 'tweet-text').get_text()\n",
    "mars_weather"
   ]
  },
  {
   "cell_type": "code",
   "execution_count": 19,
   "metadata": {
    "collapsed": true
   },
   "outputs": [],
   "source": [
    "url = 'https://astrogeology.usgs.gov/search/results?q=hemisphere+enhanced&k1=target&v1=Mars'\n",
    "browser.visit(url)"
   ]
  },
  {
   "cell_type": "code",
   "execution_count": 20,
   "metadata": {
    "collapsed": true
   },
   "outputs": [],
   "source": [
    "hemisphere_image_urls = []\n",
    "\n",
    "# First, get a list of all of the hemispheres\n",
    "links = browser.find_by_css(\"a.product-item h3\")\n",
    "\n",
    "# Next, loop through those links, click the link, find the sample anchor, return the href\n",
    "for i in range(len(links)):\n",
    "    hemisphere = {}\n",
    "    \n",
    "    # We have to find the elements on each loop to avoid a stale element exception\n",
    "    browser.find_by_css(\"a.product-item h3\")[i].click()\n",
    "    \n",
    "    # Next, we find the Sample image anchor tag and extract the href\n",
    "    sample_elem = browser.find_link_by_text('Sample').first\n",
    "    hemisphere['img_url'] = sample_elem['href']\n",
    "    \n",
    "    # Get Hemisphere title\n",
    "    hemisphere['title'] = browser.find_by_css(\"h2.title\").text\n",
    "    \n",
    "    # Append hemisphere object to list\n",
    "    hemisphere_image_urls.append(hemisphere)\n",
    "    \n",
    "    # Finally, we navigate backwards\n",
    "    browser.back()\n",
    "    "
   ]
  },
  {
   "cell_type": "code",
   "execution_count": 21,
   "metadata": {},
   "outputs": [
    {
     "data": {
      "text/plain": [
       "[{'img_url': 'http://astropedia.astrogeology.usgs.gov/download/Mars/Viking/cerberus_enhanced.tif/full.jpg',\n",
       "  'title': 'Cerberus Hemisphere Enhanced'},\n",
       " {'img_url': 'http://astropedia.astrogeology.usgs.gov/download/Mars/Viking/schiaparelli_enhanced.tif/full.jpg',\n",
       "  'title': 'Schiaparelli Hemisphere Enhanced'},\n",
       " {'img_url': 'http://astropedia.astrogeology.usgs.gov/download/Mars/Viking/syrtis_major_enhanced.tif/full.jpg',\n",
       "  'title': 'Syrtis Major Hemisphere Enhanced'},\n",
       " {'img_url': 'http://astropedia.astrogeology.usgs.gov/download/Mars/Viking/valles_marineris_enhanced.tif/full.jpg',\n",
       "  'title': 'Valles Marineris Hemisphere Enhanced'}]"
      ]
     },
     "execution_count": 21,
     "metadata": {},
     "output_type": "execute_result"
    }
   ],
   "source": [
    "hemisphere_image_urls"
   ]
  },
  {
   "cell_type": "markdown",
   "metadata": {},
   "source": [
    "## Mars Facts"
   ]
  },
  {
   "cell_type": "code",
   "execution_count": 22,
   "metadata": {},
   "outputs": [
    {
     "data": {
      "text/html": [
       "<div>\n",
       "<style scoped>\n",
       "    .dataframe tbody tr th:only-of-type {\n",
       "        vertical-align: middle;\n",
       "    }\n",
       "\n",
       "    .dataframe tbody tr th {\n",
       "        vertical-align: top;\n",
       "    }\n",
       "\n",
       "    .dataframe thead th {\n",
       "        text-align: right;\n",
       "    }\n",
       "</style>\n",
       "<table border=\"1\" class=\"dataframe\">\n",
       "  <thead>\n",
       "    <tr style=\"text-align: right;\">\n",
       "      <th></th>\n",
       "      <th>value</th>\n",
       "    </tr>\n",
       "    <tr>\n",
       "      <th>description</th>\n",
       "      <th></th>\n",
       "    </tr>\n",
       "  </thead>\n",
       "  <tbody>\n",
       "    <tr>\n",
       "      <th>Equatorial Diameter:</th>\n",
       "      <td>6,792 km</td>\n",
       "    </tr>\n",
       "    <tr>\n",
       "      <th>Polar Diameter:</th>\n",
       "      <td>6,752 km</td>\n",
       "    </tr>\n",
       "    <tr>\n",
       "      <th>Mass:</th>\n",
       "      <td>6.42 x 10^23 kg (10.7% Earth)</td>\n",
       "    </tr>\n",
       "    <tr>\n",
       "      <th>Moons:</th>\n",
       "      <td>2 (Phobos &amp; Deimos)</td>\n",
       "    </tr>\n",
       "    <tr>\n",
       "      <th>Orbit Distance:</th>\n",
       "      <td>227,943,824 km (1.52 AU)</td>\n",
       "    </tr>\n",
       "    <tr>\n",
       "      <th>Orbit Period:</th>\n",
       "      <td>687 days (1.9 years)</td>\n",
       "    </tr>\n",
       "    <tr>\n",
       "      <th>Surface Temperature:</th>\n",
       "      <td>-153 to 20 °C</td>\n",
       "    </tr>\n",
       "    <tr>\n",
       "      <th>First Record:</th>\n",
       "      <td>2nd millennium BC</td>\n",
       "    </tr>\n",
       "    <tr>\n",
       "      <th>Recorded By:</th>\n",
       "      <td>Egyptian astronomers</td>\n",
       "    </tr>\n",
       "  </tbody>\n",
       "</table>\n",
       "</div>"
      ],
      "text/plain": [
       "                                              value\n",
       "description                                        \n",
       "Equatorial Diameter:                       6,792 km\n",
       "Polar Diameter:                            6,752 km\n",
       "Mass:                 6.42 x 10^23 kg (10.7% Earth)\n",
       "Moons:                          2 (Phobos & Deimos)\n",
       "Orbit Distance:            227,943,824 km (1.52 AU)\n",
       "Orbit Period:                  687 days (1.9 years)\n",
       "Surface Temperature:                  -153 to 20 °C\n",
       "First Record:                     2nd millennium BC\n",
       "Recorded By:                   Egyptian astronomers"
      ]
     },
     "execution_count": 22,
     "metadata": {},
     "output_type": "execute_result"
    }
   ],
   "source": [
    "import pandas as pd\n",
    "df = pd.read_html('https://space-facts.com/mars/')[0]\n",
    "df.columns=['description', 'value']\n",
    "df.set_index('description', inplace=True)\n",
    "df"
   ]
  },
  {
   "cell_type": "code",
   "execution_count": 23,
   "metadata": {},
   "outputs": [
    {
     "data": {
      "text/plain": [
       "'<table border=\"1\" class=\"dataframe\">\\n  <thead>\\n    <tr style=\"text-align: right;\">\\n      <th></th>\\n      <th>value</th>\\n    </tr>\\n    <tr>\\n      <th>description</th>\\n      <th></th>\\n    </tr>\\n  </thead>\\n  <tbody>\\n    <tr>\\n      <th>Equatorial Diameter:</th>\\n      <td>6,792 km</td>\\n    </tr>\\n    <tr>\\n      <th>Polar Diameter:</th>\\n      <td>6,752 km</td>\\n    </tr>\\n    <tr>\\n      <th>Mass:</th>\\n      <td>6.42 x 10^23 kg (10.7% Earth)</td>\\n    </tr>\\n    <tr>\\n      <th>Moons:</th>\\n      <td>2 (Phobos &amp; Deimos)</td>\\n    </tr>\\n    <tr>\\n      <th>Orbit Distance:</th>\\n      <td>227,943,824 km (1.52 AU)</td>\\n    </tr>\\n    <tr>\\n      <th>Orbit Period:</th>\\n      <td>687 days (1.9 years)</td>\\n    </tr>\\n    <tr>\\n      <th>Surface Temperature:</th>\\n      <td>-153 to 20 °C</td>\\n    </tr>\\n    <tr>\\n      <th>First Record:</th>\\n      <td>2nd millennium BC</td>\\n    </tr>\\n    <tr>\\n      <th>Recorded By:</th>\\n      <td>Egyptian astronomers</td>\\n    </tr>\\n  </tbody>\\n</table>'"
      ]
     },
     "execution_count": 23,
     "metadata": {},
     "output_type": "execute_result"
    }
   ],
   "source": [
    "df.to_html()"
   ]
  },
  {
   "cell_type": "code",
   "execution_count": 24,
   "metadata": {
    "collapsed": true
   },
   "outputs": [],
   "source": [
    "browser.quit()"
   ]
  }
 ],
 "metadata": {
  "kernel_info": {
   "name": "python3"
  },
  "kernelspec": {
   "display_name": "Python 3",
   "language": "python",
   "name": "python3"
  },
  "language_info": {
   "codemirror_mode": {
    "name": "ipython",
    "version": 3
   },
   "file_extension": ".py",
   "mimetype": "text/x-python",
   "name": "python",
   "nbconvert_exporter": "python",
   "pygments_lexer": "ipython3",
   "version": "3.7.0"
  },
  "nteract": {
   "version": "0.12.3"
  }
 },
 "nbformat": 4,
 "nbformat_minor": 2
}
