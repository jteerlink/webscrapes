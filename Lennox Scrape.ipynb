{
 "cells": [
  {
   "cell_type": "code",
   "execution_count": 1,
   "metadata": {
    "collapsed": true
   },
   "outputs": [],
   "source": [
    "# Import dependencies\n",
    "from splinter import Browser\n",
    "from selenium import webdriver\n",
    "from bs4 import BeautifulSoup\n",
    "import pandas as pd\n",
    "import re"
   ]
  },
  {
   "cell_type": "code",
   "execution_count": 2,
   "metadata": {
    "collapsed": true
   },
   "outputs": [],
   "source": [
    "# Set the executable path and initialize the chrome browser in splinter\n",
    "executable_path = {'executable_path': 'C:/Anaconda/webscrapes/chromedriver'}\n",
    "chrome_options = webdriver.ChromeOptions()\n",
    "chrome_options.add_argument('log-level=3')\n",
    "browser = Browser('chrome', **executable_path, wait_time=3,headless=True,options=chrome_options)"
   ]
  },
  {
   "cell_type": "code",
   "execution_count": 5,
   "metadata": {
    "collapsed": true
   },
   "outputs": [],
   "source": [
    "# scrape links to each dealer and place in a list\n",
    "url = 'https://www.lennox.com/locate/dealer-list/'\n",
    "browser.visit(url)\n",
    "html = browser.html\n",
    "lennox_soup = BeautifulSoup(html, 'html.parser')\n",
    "\n",
    "dealer_links = []\n",
    "\n",
    "for i in lennox_soup.find_all(href=re.compile('/locate/dealer')):\n",
    "    dealer_links.append('https://www.lennox.com'+i.get('href'))\n",
    "dealer_links = dealer_links[1:]"
   ]
  },
  {
   "cell_type": "code",
   "execution_count": 9,
   "metadata": {},
   "outputs": [
    {
     "data": {
      "text/plain": [
       "2574"
      ]
     },
     "execution_count": 9,
     "metadata": {},
     "output_type": "execute_result"
    }
   ],
   "source": [
    "dealer_links[0:5]\n",
    "\n",
    "len(dealer_links)\n"
   ]
  },
  {
   "cell_type": "code",
   "execution_count": 7,
   "metadata": {},
   "outputs": [],
   "source": [
    "pd.DataFrame(dealer_links).to_csv('data/Lennox_Dealer_List.csv',index=False)"
   ]
  },
  {
   "cell_type": "code",
   "execution_count": 8,
   "metadata": {},
   "outputs": [
    {
     "data": {
      "text/html": [
       "<div>\n",
       "<style scoped>\n",
       "    .dataframe tbody tr th:only-of-type {\n",
       "        vertical-align: middle;\n",
       "    }\n",
       "\n",
       "    .dataframe tbody tr th {\n",
       "        vertical-align: top;\n",
       "    }\n",
       "\n",
       "    .dataframe thead th {\n",
       "        text-align: right;\n",
       "    }\n",
       "</style>\n",
       "<table border=\"1\" class=\"dataframe\">\n",
       "  <thead>\n",
       "    <tr style=\"text-align: right;\">\n",
       "      <th></th>\n",
       "      <th>0</th>\n",
       "    </tr>\n",
       "  </thead>\n",
       "  <tbody>\n",
       "    <tr>\n",
       "      <th>0</th>\n",
       "      <td>https://www.lennox.com/locate/dealer/al/semmes...</td>\n",
       "    </tr>\n",
       "    <tr>\n",
       "      <th>1</th>\n",
       "      <td>https://www.lennox.com/locate/dealer/al/millbr...</td>\n",
       "    </tr>\n",
       "    <tr>\n",
       "      <th>2</th>\n",
       "      <td>https://www.lennox.com/locate/dealer/al/huntsv...</td>\n",
       "    </tr>\n",
       "    <tr>\n",
       "      <th>3</th>\n",
       "      <td>https://www.lennox.com/locate/dealer/al/birmin...</td>\n",
       "    </tr>\n",
       "    <tr>\n",
       "      <th>4</th>\n",
       "      <td>https://www.lennox.com/locate/dealer/al/huntsv...</td>\n",
       "    </tr>\n",
       "  </tbody>\n",
       "</table>\n",
       "</div>"
      ],
      "text/plain": [
       "                                                   0\n",
       "0  https://www.lennox.com/locate/dealer/al/semmes...\n",
       "1  https://www.lennox.com/locate/dealer/al/millbr...\n",
       "2  https://www.lennox.com/locate/dealer/al/huntsv...\n",
       "3  https://www.lennox.com/locate/dealer/al/birmin...\n",
       "4  https://www.lennox.com/locate/dealer/al/huntsv..."
      ]
     },
     "execution_count": 8,
     "metadata": {},
     "output_type": "execute_result"
    }
   ],
   "source": [
    "lennox_links = pd.read_csv('data/Lennox_Dealer_List.csv')\n",
    "lennox_links.head()"
   ]
  },
  {
   "cell_type": "code",
   "execution_count": 15,
   "metadata": {},
   "outputs": [
    {
     "name": "stdout",
     "output_type": "stream",
     "text": [
      "--- 5314.282999992371 seconds ---\n"
     ]
    }
   ],
   "source": [
    "import time\n",
    "start_time = time.time()\n",
    "\n",
    "df = pd.DataFrame()\n",
    "\n",
    "for dealer in lennox_links:\n",
    "    try:\n",
    "        browser.visit(dealer)\n",
    "        html = browser.html\n",
    "        dealer_soup = BeautifulSoup(html, 'html.parser')\n",
    "        \n",
    "        name = dealer_soup.find(itemprop='name').get_text(strip=True)\n",
    "        street = dealer_soup.find(itemprop='streetAddress').get_text(strip=True)\n",
    "        city = dealer_soup.find(itemprop='addressLocality').get_text(strip=True)\n",
    "        state = dealer_soup.find(itemprop='addressRegion').get_text(strip=True)\n",
    "        zipcode = dealer_soup.find(itemprop='PostalCode').get_text(strip=True)\n",
    "        country = dealer_soup.find(itemprop=\"addressCountry\")['content']\n",
    "        phone = dealer_soup.find(itemprop='telephone').get_text('[0-9]',strip=True)[-12:]\n",
    "        lat = dealer_soup.find(itemprop=\"latitude\")['content']\n",
    "        long = dealer_soup.find(itemprop=\"longitude\")['content']\n",
    "        try:\n",
    "            website = dealer_soup.find(attrs={'class':'website ng-binding ng-scope'}).get('href')\n",
    "        except:\n",
    "            website = ''\n",
    "        \n",
    "    except:\n",
    "        pass\n",
    "    dealer_df = {'DealerName':name,\n",
    "                 'PostalAddress':street,\n",
    "                 'City':city,\n",
    "                 'State':state,\n",
    "                 'ZipCode':zipcode,\n",
    "                 'Country':country,\n",
    "                 'Phone':phone,\n",
    "                 'LocatorLatitude':lat,\n",
    "                 'LocatorLongitude':long,\n",
    "                 'Website':website,\n",
    "                 'Brand':'Lennox'}\n",
    "\n",
    "    df = df.append(dealer_df,ignore_index=True)\n",
    "# df\n",
    "browser.quit()    \n",
    "\n",
    "df2 = pd.DataFrame([df.DealerName,df.PostalAddress,df.City,df.State,df.ZipCode,df.Country,df.Phone,df.LocatorLatitude,df.LocatorLongitude,df.Website,df.Brand]).T\n",
    "\n",
    "print(\"--- %s seconds ---\" % (time.time() - start_time))"
   ]
  },
  {
   "cell_type": "code",
   "execution_count": 20,
   "metadata": {},
   "outputs": [],
   "source": [
    "from sqlalchemy import create_engine\n",
    "import urllib\n",
    "\n",
    "\n",
    "params = urllib.parse.quote_plus('DRIVER={SQL Server Native Client 10.0};Server=gmlsql2hou; DATABASE=invplannersapp;Trusted_Connection=yes;')\n",
    "\n",
    "engine = create_engine(\"mssql+pyodbc:///?odbc_connect=%s\" % params)\n",
    "df2.to_sql('GBU_Webscrape',engine,if_exists='append',index=False)"
   ]
  },
  {
   "cell_type": "code",
   "execution_count": 12,
   "metadata": {},
   "outputs": [
    {
     "data": {
      "text/plain": [
       "['https://www.lennox.com/locate/dealer/al/semmes/action-htg-ac-and-refrig-inc',\n",
       " 'https://www.lennox.com/locate/dealer/al/millbrook/air-now-heating-and-cooling-inc',\n",
       " 'https://www.lennox.com/locate/dealer/al/huntsville/aire-serv-of-huntsville',\n",
       " 'https://www.lennox.com/locate/dealer/al/birmingham/aireserv-over-the-mountain',\n",
       " 'https://www.lennox.com/locate/dealer/al/huntsville/all-weather-htg-and-air-cond-inc',\n",
       " 'https://www.lennox.com/locate/dealer/al/huntsville/annette-hales-indoor-comfort-syste',\n",
       " 'https://www.lennox.com/locate/dealer/al/heflin/bain-htg-and-a-c-inc',\n",
       " 'https://www.lennox.com/locate/dealer/al/fairhope/bay-aire-inc',\n",
       " 'https://www.lennox.com/locate/dealer/al/dothan/bob-woodall-air-care-systems']"
      ]
     },
     "execution_count": 12,
     "metadata": {},
     "output_type": "execute_result"
    }
   ],
   "source": [
    "# dealer_links[1:10]"
   ]
  },
  {
   "cell_type": "code",
   "execution_count": 15,
   "metadata": {},
   "outputs": [
    {
     "name": "stdout",
     "output_type": "stream",
     "text": [
      "Lennox Scrape completed\n"
     ]
    }
   ],
   "source": [
    "# import lennox\n",
    "\n",
    "# lennox.lennox_scrape(urls=dealer_links[1:10])\n"
   ]
  }
 ],
 "metadata": {
  "kernel_info": {
   "name": "python3"
  },
  "kernelspec": {
   "display_name": "Python 3",
   "language": "python",
   "name": "python3"
  },
  "language_info": {
   "codemirror_mode": {
    "name": "ipython",
    "version": 3
   },
   "file_extension": ".py",
   "mimetype": "text/x-python",
   "name": "python",
   "nbconvert_exporter": "python",
   "pygments_lexer": "ipython3",
   "version": "3.7.0"
  },
  "nteract": {
   "version": "0.12.3"
  }
 },
 "nbformat": 4,
 "nbformat_minor": 2
}
