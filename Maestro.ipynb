{
 "cells": [
  {
   "cell_type": "code",
   "execution_count": null,
   "metadata": {},
   "outputs": [],
   "source": [
    "\n",
    "import os                                                                       \n",
    "from multiprocessing import Pool                                                \n",
    "                                                                                \n",
    "                                                                                \n",
    "processes = ('/subscripts/Carrier_Scrape1.py', '/subscripts/Carrier_Scrape2.py','/subscripts/Carrier_Scrape3.py')                                    \n",
    "\n",
    "                                                  \n",
    "                                                                                \n",
    "def run_process(process):                                                             \n",
    "    os.system('python {}'.format(process))                                       \n",
    "                                                                                \n",
    "                                                                                \n",
    "pool = Pool(processes=3)                                                        \n",
    "pool.map(run_process, processes) \n"
   ]
  },
  {
   "cell_type": "code",
   "execution_count": 3,
   "metadata": {},
   "outputs": [
    {
     "name": "stdout",
     "output_type": "stream",
     "text": [
      "0       99501\n",
      "5       99506\n",
      "10      99511\n",
      "15      99516\n",
      "20      99521\n",
      "25      99546\n",
      "30      99551\n",
      "35      99556\n",
      "40      99563\n",
      "45      99568\n",
      "50      99574\n",
      "55      99579\n",
      "60      99585\n",
      "65      99590\n",
      "70      99604\n",
      "75      99609\n",
      "80      99614\n",
      "85      99622\n",
      "90      99628\n",
      "95      99634\n",
      "100     99639\n",
      "105     99645\n",
      "110     99651\n",
      "115     99656\n",
      "120     99661\n",
      "125     99666\n",
      "130     99671\n",
      "135     99677\n",
      "140     99682\n",
      "145     99687\n",
      "        ...  \n",
      "4850    95493\n",
      "4855    95503\n",
      "4860    95521\n",
      "4865    95528\n",
      "4870    95537\n",
      "4875    95545\n",
      "4880    95550\n",
      "4885    95555\n",
      "4890    95562\n",
      "4895    95568\n",
      "4900    95585\n",
      "4905    95602\n",
      "4910    95607\n",
      "4915    95612\n",
      "4920    95617\n",
      "4925    95623\n",
      "4930    95628\n",
      "4935    95633\n",
      "4940    95638\n",
      "4945    95644\n",
      "4950    95651\n",
      "4955    95656\n",
      "4960    95662\n",
      "4965    95667\n",
      "4970    95672\n",
      "4975    95677\n",
      "4980    95682\n",
      "4985    95687\n",
      "4990    95692\n",
      "4995    95697\n",
      "Name: zip_code, Length: 1000, dtype: int64\n"
     ]
    }
   ],
   "source": [
    "import pandas as pd\n",
    "zipcodes = pd.read_csv('C:/Anaconda/US_zipcodes.csv')\n",
    "\n",
    "\n",
    "print(zipcodes.zip_code[0:5000:5])"
   ]
  }
 ],
 "metadata": {
  "kernelspec": {
   "display_name": "Python 3",
   "language": "python",
   "name": "python3"
  },
  "language_info": {
   "codemirror_mode": {
    "name": "ipython",
    "version": 3
   },
   "file_extension": ".py",
   "mimetype": "text/x-python",
   "name": "python",
   "nbconvert_exporter": "python",
   "pygments_lexer": "ipython3",
   "version": "3.7.0"
  }
 },
 "nbformat": 4,
 "nbformat_minor": 2
}
