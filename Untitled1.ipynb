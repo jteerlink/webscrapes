{
 "cells": [
  {
   "cell_type": "code",
   "execution_count": 7,
   "metadata": {},
   "outputs": [],
   "source": [
    "# Import dependencies\n",
    "from splinter import Browser\n",
    "from selenium import webdriver\n",
    "from bs4 import BeautifulSoup\n",
    "import pandas as pd\n",
    "import re\n",
    "from sqlalchemy import create_engine\n",
    "import urllib\n",
    "\n",
    "# Set the executable path and initialize the chrome browser in splinter\n",
    "executable_path = {'executable_path': 'C:/Anaconda/webscrapes/chromedriver'}\n",
    "chrome_options = webdriver.ChromeOptions()\n",
    "chrome_options.add_argument('log-level=3')\n",
    "browser = Browser('chrome', **executable_path, wait_time=2,headless=True,options=chrome_options)\n",
    "\n",
    "lennox_links = pd.read_csv('data/Lennox_Dealer_List.csv')\n",
    "lennox_links"
   ]
  },
  {
   "cell_type": "code",
   "execution_count": 18,
   "metadata": {},
   "outputs": [
    {
     "name": "stdout",
     "output_type": "stream",
     "text": [
      "Action Htg AC & Refrig Inc\n",
      "Air Now Heating & Cooling Inc\n",
      "Aire Serv Of Huntsville\n",
      "Aireserv Over the Mountain\n",
      "All Weather Htg & Air Cond Inc\n"
     ]
    }
   ],
   "source": [
    "dealer =0\n",
    "street = 0\n",
    "city = 0\n",
    "state = 0\n",
    "zipcode = 0\n",
    "country = 0\n",
    "phone = 0\n",
    "lat = 0\n",
    "long = 0\n",
    "website = 0 \n",
    "df = pd.DataFrame()\n",
    "for site in lennox_links['0'][0:5]:\n",
    "    \n",
    "    browser.visit('%s' % site)\n",
    "    html = browser.html\n",
    "    dealer_soup = BeautifulSoup(html, 'html.parser')\n",
    "            \n",
    "    dealer = dealer_soup.find(itemprop='name').get_text(strip=True)\n",
    "    street = dealer_soup.find(itemprop='streetAddress').get_text(strip=True)\n",
    "    city = dealer_soup.find(itemprop='addressLocality').get_text(strip=True)\n",
    "    state = dealer_soup.find(itemprop='addressRegion').get_text(strip=True)\n",
    "    zipcode = dealer_soup.find(itemprop='PostalCode').get_text(strip=True)\n",
    "    country = dealer_soup.find(itemprop=\"addressCountry\")['content']\n",
    "    phone = dealer_soup.find(itemprop='telephone').get_text('[0-9]',strip=True)[-12:]\n",
    "    lat = dealer_soup.find(itemprop=\"latitude\")['content']\n",
    "    long = dealer_soup.find(itemprop=\"longitude\")['content']\n",
    "            \n",
    "    try:\n",
    "        website = dealer_soup.find(attrs={'class':'website ng-binding ng-scope'}).get('href')\n",
    "    except:\n",
    "        website = ''\n",
    "\n",
    "\n",
    "    dealer_df = {'DealerName':dealer,\n",
    "                 'PostalAddress':street,\n",
    "                 'City':city,\n",
    "                 'State':state,\n",
    "                 'ZipCode':zipcode,\n",
    "                 'Country':country,\n",
    "                 'Phone':phone,\n",
    "                 'LocatorLatitude':lat,\n",
    "                 'LocatorLongitude':long,\n",
    "                 'Website':website,\n",
    "                 'Brand':'Lennox'}\n",
    "  \n",
    "\n",
    "    df = df.append(dealer_df,ignore_index=True)\n",
    "    \n",
    "df2 = pd.DataFrame([df.DealerName,df.PostalAddress,df.City,df.State,df.ZipCode,df.Country,df.Phone,df.LocatorLatitude,df.LocatorLongitude,df.Website,df.Brand]).T\n",
    " \n",
    "\n"
   ]
  },
  {
   "cell_type": "code",
   "execution_count": 17,
   "metadata": {},
   "outputs": [
    {
     "name": "stdout",
     "output_type": "stream",
     "text": [
      "0\n"
     ]
    }
   ],
   "source": [
    "for i in lennox_links[0:5]:\n",
    "    print(i)"
   ]
  }
 ],
 "metadata": {
  "kernelspec": {
   "display_name": "Python 3",
   "language": "python",
   "name": "python3"
  },
  "language_info": {
   "codemirror_mode": {
    "name": "ipython",
    "version": 3
   },
   "file_extension": ".py",
   "mimetype": "text/x-python",
   "name": "python",
   "nbconvert_exporter": "python",
   "pygments_lexer": "ipython3",
   "version": "3.7.0"
  }
 },
 "nbformat": 4,
 "nbformat_minor": 2
}
