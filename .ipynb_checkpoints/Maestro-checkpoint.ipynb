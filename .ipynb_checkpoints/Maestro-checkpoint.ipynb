{
 "cells": [
  {
   "cell_type": "markdown",
   "metadata": {},
   "source": [
    "### Carrier Parallel Scrape"
   ]
  },
  {
   "cell_type": "code",
   "execution_count": 1,
   "metadata": {},
   "outputs": [
    {
     "name": "stdout",
     "output_type": "stream",
     "text": [
      "--- 7730.028599977493 seconds ---\n"
     ]
    }
   ],
   "source": [
    "import os                                                                       \n",
    "import multiprocessing as mp                                               \n",
    "import time\n",
    "start_time = time.time()                                                                               \n",
    " \n",
    "from carrier import carrier_scrape   \n",
    "\n",
    "# processes = ('Carrier_Scrape1.py', 'Carrier_Scrape2.py','Carrier_Scrape3.py')                                                                          \n",
    "start = [x for x in range(0,50000,1000)]\n",
    "finish = [x for x in range(1000,51000,1000)]\n",
    "\n",
    "\n",
    "if __name__ == '__main__':\n",
    "    pool = mp.Pool(processes=15)   \n",
    "    pool.starmap(carrier_scrape, [(x,y) for x,y in zip(start,finish)]) \n",
    "    pool.close()\n",
    "    pool.join()\n",
    "\n",
    "\n",
    "print(\"--- %s seconds ---\" % (time.time() - start_time))"
   ]
  },
  {
   "cell_type": "markdown",
   "metadata": {},
   "source": [
    "### Lennox Scrape\n",
    "#### -- Part 1 - Get list of dealer URLs\n",
    "#### -- Part 2 - Pass list of URLs to scrape function and pool of workers"
   ]
  },
  {
   "cell_type": "markdown",
   "metadata": {},
   "source": [
    "#### Part 1\n"
   ]
  },
  {
   "cell_type": "code",
   "execution_count": 4,
   "metadata": {},
   "outputs": [],
   "source": [
    "from splinter import Browser\n",
    "from selenium import webdriver\n",
    "from bs4 import BeautifulSoup\n",
    "import pandas as pd\n",
    "import re\n",
    "\n",
    "\n",
    "# Set the executable path and initialize the chrome browser in splinter\n",
    "executable_path = {'executable_path': 'C:/Anaconda/webscrapes/chromedriver'}\n",
    "chrome_options = webdriver.ChromeOptions()\n",
    "chrome_options.add_argument('log-level=3')\n",
    "browser = Browser('chrome', **executable_path, wait_time=3,headless=True,options=chrome_options)\n",
    "\n",
    "\n",
    "# scrape links to each dealer and place in a list\n",
    "url = 'https://www.lennox.com/locate/dealer-list/'\n",
    "browser.visit(url)\n",
    "html = browser.html\n",
    "lennox_soup = BeautifulSoup(html, 'html.parser')\n",
    "\n",
    "dealer_links = []\n",
    "\n",
    "for i in lennox_soup.find_all(href=re.compile('/locate/dealer')):\n",
    "    dealer_links.append('https://www.lennox.com'+i.get('href'))\n",
    "\n",
    "browser.quit()\n",
    "\n",
    "\n",
    "\n",
    "dealer_links = dealer_links[1:]\n",
    "\n",
    "pd.DataFrame(dealer_links).to_csv('data/Lennox_Dealer_List.csv',index=False)"
   ]
  },
  {
   "cell_type": "markdown",
   "metadata": {},
   "source": [
    "#### Part 2"
   ]
  },
  {
   "cell_type": "code",
   "execution_count": null,
   "metadata": {},
   "outputs": [],
   "source": [
    "import os                                                                       \n",
    "import multiprocessing as mp                                               \n",
    "import time\n",
    "import pandas as pd\n",
    "lennox_links = pd.read_csv('data/Lennox_Dealer_List.csv')\n",
    "\n",
    "from lennox import lennox_scrape\n",
    "start_time = time.time()  \n",
    "\n",
    "start = [x for x in range(0,(len(lennox_links['0'])),100)]\n",
    "finish = [x for x in range(100,(len(lennox_links['0'])+100),100)]\n",
    "\n",
    "\n",
    "\n",
    "if __name__ == '__main__':\n",
    "    pool = mp.Pool(processes=10)   \n",
    "    pool.starmap(lennox_scrape, [(x,y) for x,y in zip(start,finish)]) \n",
    "    pool.close()\n",
    "    pool.join()\n",
    "\n",
    "    \n",
    "    \n",
    "print(\"--- %s seconds ---\" % (time.time() - start_time))    "
   ]
  },
  {
   "cell_type": "markdown",
   "metadata": {},
   "source": [
    "### Trane Scrape\n",
    "#### -- Part 1 - Get list of dealer URLs\n",
    "#### -- Part 2 - Pass list of URLs to scrape function and pool of workers"
   ]
  },
  {
   "cell_type": "markdown",
   "metadata": {},
   "source": [
    "#### Part 1"
   ]
  },
  {
   "cell_type": "code",
   "execution_count": 1,
   "metadata": {},
   "outputs": [],
   "source": [
    "# Import dependencies\n",
    "from splinter import Browser\n",
    "from selenium import webdriver\n",
    "from bs4 import BeautifulSoup\n",
    "import pandas as pd\n",
    "import re\n",
    "zipcodes = pd.read_csv('C:/Anaconda/US_zipcodes.csv')\n",
    "\n",
    "# Set the executable path and initialize the chrome browser in splinter\n",
    "executable_path = {'executable_path': 'C:/Anaconda/webscrapes/chromedriver'}\n",
    "chrome_options = webdriver.ChromeOptions()\n",
    "chrome_options.add_argument('log-level=3')\n",
    "browser = Browser('chrome', **executable_path, wait_time=3,headless=True,options=chrome_options)\n",
    "\n",
    "\n",
    "# Visit Trane Dealer Locator site\n",
    "url = 'https://www.trane.com/residential/en/dealers.html'\n",
    "browser.visit(url)\n",
    "html = browser.html\n",
    "trane_soup = BeautifulSoup(html, 'html.parser')\n",
    "\n",
    "dealer_links=[]\n",
    "for i in trane_soup.find_all(class_=\"dealer-directory__link\"):\n",
    "    dealer_links.append(i.get('href'))\n",
    "    \n",
    "    \n",
    "pd.DataFrame(dealer_links).to_csv('data/Trane_Dealer_List.csv',index=False)\n"
   ]
  },
  {
   "cell_type": "markdown",
   "metadata": {},
   "source": [
    "#### Part 2"
   ]
  },
  {
   "cell_type": "code",
   "execution_count": 4,
   "metadata": {},
   "outputs": [
    {
     "name": "stdout",
     "output_type": "stream",
     "text": [
      "--- 1220.141000032425 seconds ---\n"
     ]
    }
   ],
   "source": [
    "import os                                                                       \n",
    "import multiprocessing as mp                                               \n",
    "import time\n",
    "import pandas as pd\n",
    "trane_links = pd.read_csv('data/Trane_Dealer_List.csv')\n",
    "\n",
    "from trane import trane_scrape\n",
    "start_time = time.time()  \n",
    "\n",
    "start = [x for x in range(0,(len(trane_links['0'])),100)]\n",
    "finish = [x for x in range(100,(len(trane_links['0'])+100),100)]\n",
    "\n",
    "\n",
    "\n",
    "if __name__ == '__main__':\n",
    "    pool = mp.Pool(processes=8)   \n",
    "    pool.starmap(trane_scrape, [(x,y) for x,y in zip(start,finish)]) \n",
    "    pool.close()\n",
    "    pool.join()\n",
    "\n",
    "    \n",
    "    \n",
    "print(\"--- %s seconds ---\" % (time.time() - start_time))  "
   ]
  }
 ],
 "metadata": {
  "kernelspec": {
   "display_name": "Python 3",
   "language": "python",
   "name": "python3"
  },
  "language_info": {
   "codemirror_mode": {
    "name": "ipython",
    "version": 3
   },
   "file_extension": ".py",
   "mimetype": "text/x-python",
   "name": "python",
   "nbconvert_exporter": "python",
   "pygments_lexer": "ipython3",
   "version": "3.7.0"
  }
 },
 "nbformat": 4,
 "nbformat_minor": 2
}
